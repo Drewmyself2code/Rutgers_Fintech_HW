{
 "cells": [
  {
   "cell_type": "markdown",
   "metadata": {},
   "source": [
    "# Unit 12 - Tales from the Crypto\n",
    "\n",
    "---\n"
   ]
  },
  {
   "cell_type": "markdown",
   "metadata": {},
   "source": [
    "## 1. Sentiment Analysis\n",
    "\n",
    "Use the [newsapi](https://newsapi.org/) to pull the latest news articles for Bitcoin and Ethereum and create a DataFrame of sentiment scores for each coin.\n",
    "\n",
    "Use descriptive statistics to answer the following questions:\n",
    "1. Which coin had the highest mean positive score?\n",
    "2. Which coin had the highest negative score?\n",
    "3. Which coin had the highest positive score?"
   ]
  },
  {
   "cell_type": "code",
   "execution_count": 1,
   "metadata": {},
   "outputs": [
    {
     "name": "stderr",
     "output_type": "stream",
     "text": [
      "[nltk_data] Downloading package vader_lexicon to\n",
      "[nltk_data]     C:\\Users\\mahlesah\\AppData\\Roaming\\nltk_data...\n",
      "[nltk_data]   Package vader_lexicon is already up-to-date!\n"
     ]
    }
   ],
   "source": [
    "# Initial imports\n",
    "import os\n",
    "import pandas as pd\n",
    "from pathlib import Path\n",
    "from IPython.core.display import display, HTML\n",
    "from dotenv import load_dotenv\n",
    "import nltk as nltk\n",
    "nltk.download('vader_lexicon')\n",
    "from nltk.sentiment.vader import SentimentIntensityAnalyzer\n",
    "analyzer = SentimentIntensityAnalyzer()\n",
    "from newsapi import NewsApiClient\n",
    "\n",
    "%matplotlib inline"
   ]
  },
  {
   "cell_type": "code",
   "execution_count": 2,
   "metadata": {},
   "outputs": [],
   "source": [
    "# Read your api key environment variable\n",
    "load_dotenv()\n",
    "api_key = os.getenv(\"news_api\")"
   ]
  },
  {
   "cell_type": "code",
   "execution_count": 3,
   "metadata": {},
   "outputs": [],
   "source": [
    "# Create a newsapi client\n",
    "newsapi = NewsApiClient(api_key=api_key)"
   ]
  },
  {
   "cell_type": "code",
   "execution_count": 4,
   "metadata": {},
   "outputs": [
    {
     "name": "stdout",
     "output_type": "stream",
     "text": [
      "Total number of news articles featuring Bitcoin - 2962\n",
      "Sample news article featuring Bitcoin - [{'source': {'id': 'business-insider', 'name': 'Business Insider'}, 'author': 'insider@insider.com (Simon Chandler,Paul Kim)', 'title': \"What is bitcoin? A beginner's guide to the world's most popular type of cryptocurrency, and tips for investing in it\", 'description': 'Bitcoin (BTC) is a digital currency that uses peer-to-peer technology to facilitate instant payments.', 'url': 'https://www.businessinsider.com/personal-finance/what-is-bitcoin', 'urlToImage': 'https://i.insider.com/5fd26a4630f2740018b0f223?width=1200&format=jpeg', 'publishedAt': '2022-05-20T21:00:42Z', 'content': 'Scarcely a news cycle goes by without some mention of bitcoin. As the first and most widely traded cryptocurrency, bitcoin is often seen as a representation of the larger cryptocurrency ecosystem, fo… [+13892 chars]'}, {'source': {'id': None, 'name': 'Bitcoin.com'}, 'author': None, 'title': 'Bitcoin, Ethereum Technical Analysis: BTC Slips to 10-Month Low, Below $33000 – Market Updates Bitcoin News - Bitcoin News', 'description': '<ol><li>Bitcoin, Ethereum Technical Analysis: BTC Slips to 10-Month Low, Below $33000 – Market Updates Bitcoin News\\xa0\\xa0Bitcoin News\\r\\n</li><li>Bitcoin drops 50% from peak, near lowest levels in last one year\\xa0\\xa0Economic Times\\r\\n</li><li>Crypto Crash: Why is cryptoc…', 'url': 'https://news.bitcoin.com/bitcoin-ethereum-technical-analysis-btc-slips-to-10-month-low-below-33000/', 'urlToImage': 'https://static.news.bitcoin.com/wp-content/uploads/2022/05/shutterstock_1978798856-1.jpg', 'publishedAt': '2022-05-09T13:45:30Z', 'content': 'BTC fell to its lowest level since last July, as prices dropped below $33,000 to start the week. The selloff in cryptocurrency started last week, following the Fed’s decision to hike interest rates b… [+2651 chars]'}]\n"
     ]
    }
   ],
   "source": [
    "# Fetch the Bitcoin news articles\n",
    "bitcoin_articles = newsapi.get_everything(\n",
    "    q=\"Bitcoin AND bitcoin AND BTC\", language=\"en\", page_size=100, sort_by=\"relevancy\"\n",
    ")\n",
    "\n",
    "\n",
    "print(f\"Total number of news articles featuring Bitcoin - {bitcoin_articles['totalResults']}\")\n",
    "print(f\"Sample news article featuring Bitcoin - {bitcoin_articles['articles'][1:3]}\") "
   ]
  },
  {
   "cell_type": "code",
   "execution_count": 5,
   "metadata": {},
   "outputs": [
    {
     "name": "stdout",
     "output_type": "stream",
     "text": [
      "Total number of news articles featuring Ethereum - 1471\n",
      "Sample news article featuring Ethereum - [{'source': {'id': None, 'name': 'Gizmodo.com'}, 'author': 'Kyle Barr', 'title': 'GameStop Dunks Its Head Into the Crypto Kiddie Pool', 'description': 'GameStop has officially thrown itself headlong into the web3 vipers nest with a new app release, though it’s hard to say whether its proposed population of gamers and game developers will take up the company on its belated, head-first jump into the crypto sph…', 'url': 'https://gizmodo.com/gamestop-crypto-nft-wallet-blockchain-1848965386', 'urlToImage': 'https://i.kinja-img.com/gawker-media/image/upload/c_fill,f_auto,fl_progressive,g_center,h_675,pg_1,q_80,w_1200/cd4c128b4182d7b2fba8152d7bb35733.jpg', 'publishedAt': '2022-05-23T21:35:00Z', 'content': 'GameStop has officially thrown itself headlong into the web3 vipers nest with a new app release, though its hard to say whether its proposed population of gamers and game developers will take up the … [+3255 chars]'}, {'source': {'id': None, 'name': 'Bitcoin.com'}, 'author': None, 'title': 'Bitcoin, Ethereum Technical Analysis: BTC Slips to 10-Month Low, Below $33000 – Market Updates Bitcoin News - Bitcoin News', 'description': '<ol><li>Bitcoin, Ethereum Technical Analysis: BTC Slips to 10-Month Low, Below $33000 – Market Updates Bitcoin News\\xa0\\xa0Bitcoin News\\r\\n</li><li>Bitcoin drops 50% from peak, near lowest levels in last one year\\xa0\\xa0Economic Times\\r\\n</li><li>Crypto Crash: Why is cryptoc…', 'url': 'https://news.bitcoin.com/bitcoin-ethereum-technical-analysis-btc-slips-to-10-month-low-below-33000/', 'urlToImage': 'https://static.news.bitcoin.com/wp-content/uploads/2022/05/shutterstock_1978798856-1.jpg', 'publishedAt': '2022-05-09T13:45:30Z', 'content': 'BTC fell to its lowest level since last July, as prices dropped below $33,000 to start the week. The selloff in cryptocurrency started last week, following the Fed’s decision to hike interest rates b… [+2651 chars]'}]\n"
     ]
    }
   ],
   "source": [
    "# Fetch the Ethereum news articles\n",
    "ethereum_articles = newsapi.get_everything(\n",
    "    q=\"Ethereum AND ethereum AND ETH\", language='en', page_size=100, sort_by=\"relevancy\"\n",
    ")\n",
    "\n",
    "\n",
    "print(f\"Total number of news articles featuring Ethereum - {ethereum_articles['totalResults']}\")\n",
    "print(f\"Sample news article featuring Ethereum - {ethereum_articles['articles'][1:3]}\")   "
   ]
  },
  {
   "cell_type": "code",
   "execution_count": 6,
   "metadata": {},
   "outputs": [
    {
     "data": {
      "text/html": [
       "<div>\n",
       "<style scoped>\n",
       "    .dataframe tbody tr th:only-of-type {\n",
       "        vertical-align: middle;\n",
       "    }\n",
       "\n",
       "    .dataframe tbody tr th {\n",
       "        vertical-align: top;\n",
       "    }\n",
       "\n",
       "    .dataframe thead th {\n",
       "        text-align: right;\n",
       "    }\n",
       "</style>\n",
       "<table border=\"1\" class=\"dataframe\">\n",
       "  <thead>\n",
       "    <tr style=\"text-align: right;\">\n",
       "      <th></th>\n",
       "      <th>Title</th>\n",
       "      <th>Text</th>\n",
       "      <th>Date</th>\n",
       "      <th>Compound</th>\n",
       "      <th>Positive</th>\n",
       "      <th>Negative</th>\n",
       "      <th>Neutral</th>\n",
       "    </tr>\n",
       "  </thead>\n",
       "  <tbody>\n",
       "    <tr>\n",
       "      <th>0</th>\n",
       "      <td>Miami’s Bitcoin Conference Left a Trail of Har...</td>\n",
       "      <td>now, even though there are a number of women-f...</td>\n",
       "      <td>2022-05-10</td>\n",
       "      <td>0.0772</td>\n",
       "      <td>0.036</td>\n",
       "      <td>0.000</td>\n",
       "      <td>0.964</td>\n",
       "    </tr>\n",
       "    <tr>\n",
       "      <th>1</th>\n",
       "      <td>What is bitcoin? A beginner's guide to the wor...</td>\n",
       "      <td>scarcely a news cycle goes by without some men...</td>\n",
       "      <td>2022-05-20</td>\n",
       "      <td>0.0000</td>\n",
       "      <td>0.000</td>\n",
       "      <td>0.000</td>\n",
       "      <td>1.000</td>\n",
       "    </tr>\n",
       "    <tr>\n",
       "      <th>2</th>\n",
       "      <td>Bitcoin, Ethereum Technical Analysis: BTC Slip...</td>\n",
       "      <td>btc fell to its lowest level since last july, ...</td>\n",
       "      <td>2022-05-09</td>\n",
       "      <td>0.1027</td>\n",
       "      <td>0.076</td>\n",
       "      <td>0.066</td>\n",
       "      <td>0.859</td>\n",
       "    </tr>\n",
       "    <tr>\n",
       "      <th>3</th>\n",
       "      <td>Bitcoin, cryptocurrency shed $200 billion in o...</td>\n",
       "      <td>contagion spreading to stock markets as invest...</td>\n",
       "      <td>2022-05-12</td>\n",
       "      <td>-0.5667</td>\n",
       "      <td>0.070</td>\n",
       "      <td>0.173</td>\n",
       "      <td>0.757</td>\n",
       "    </tr>\n",
       "    <tr>\n",
       "      <th>4</th>\n",
       "      <td>Protecting Retirement Savings from Volatile Cr...</td>\n",
       "      <td>did you hear? you may be able to allocate some...</td>\n",
       "      <td>2022-05-09</td>\n",
       "      <td>0.1280</td>\n",
       "      <td>0.045</td>\n",
       "      <td>0.000</td>\n",
       "      <td>0.955</td>\n",
       "    </tr>\n",
       "  </tbody>\n",
       "</table>\n",
       "</div>"
      ],
      "text/plain": [
       "                                               Title  \\\n",
       "0  Miami’s Bitcoin Conference Left a Trail of Har...   \n",
       "1  What is bitcoin? A beginner's guide to the wor...   \n",
       "2  Bitcoin, Ethereum Technical Analysis: BTC Slip...   \n",
       "3  Bitcoin, cryptocurrency shed $200 billion in o...   \n",
       "4  Protecting Retirement Savings from Volatile Cr...   \n",
       "\n",
       "                                                Text        Date  Compound  \\\n",
       "0  now, even though there are a number of women-f...  2022-05-10    0.0772   \n",
       "1  scarcely a news cycle goes by without some men...  2022-05-20    0.0000   \n",
       "2  btc fell to its lowest level since last july, ...  2022-05-09    0.1027   \n",
       "3  contagion spreading to stock markets as invest...  2022-05-12   -0.5667   \n",
       "4  did you hear? you may be able to allocate some...  2022-05-09    0.1280   \n",
       "\n",
       "   Positive  Negative  Neutral  \n",
       "0     0.036     0.000    0.964  \n",
       "1     0.000     0.000    1.000  \n",
       "2     0.076     0.066    0.859  \n",
       "3     0.070     0.173    0.757  \n",
       "4     0.045     0.000    0.955  "
      ]
     },
     "execution_count": 6,
     "metadata": {},
     "output_type": "execute_result"
    }
   ],
   "source": [
    "# Create the Bitcoin sentiment scores DataFrame\n",
    "bitcoin_sentiments = []\n",
    "\n",
    "for article in bitcoin_articles[\"articles\"]:\n",
    "    try:\n",
    "        title = article[\"title\"]\n",
    "        text = article[\"content\"].lower()       \n",
    "        date = article[\"publishedAt\"][:10]\n",
    "        sentiment = analyzer.polarity_scores(text)\n",
    "        compound = sentiment[\"compound\"]\n",
    "        pos = sentiment[\"pos\"]\n",
    "        neu = sentiment[\"neu\"]\n",
    "        neg = sentiment[\"neg\"]\n",
    "        \n",
    "        bitcoin_sentiments.append({\n",
    "            \"Title\":title, \"Text\":text,\n",
    "            \"Date\":date,  \"Compound\":compound,\n",
    "            \"Positive\":pos,   \"Negative\":neg,\n",
    "            \"Neutral\":neu,\n",
    "            \n",
    "        })\n",
    "        \n",
    "    except AttributeError:\n",
    "        pass\n",
    "    \n",
    "\n",
    "df_bitcoin_sentiments = pd.DataFrame(bitcoin_sentiments)\n",
    "df_bitcoin_sentiments.head()    "
   ]
  },
  {
   "cell_type": "code",
   "execution_count": 7,
   "metadata": {},
   "outputs": [
    {
     "data": {
      "text/html": [
       "<div>\n",
       "<style scoped>\n",
       "    .dataframe tbody tr th:only-of-type {\n",
       "        vertical-align: middle;\n",
       "    }\n",
       "\n",
       "    .dataframe tbody tr th {\n",
       "        vertical-align: top;\n",
       "    }\n",
       "\n",
       "    .dataframe thead th {\n",
       "        text-align: right;\n",
       "    }\n",
       "</style>\n",
       "<table border=\"1\" class=\"dataframe\">\n",
       "  <thead>\n",
       "    <tr style=\"text-align: right;\">\n",
       "      <th></th>\n",
       "      <th>Title</th>\n",
       "      <th>Text</th>\n",
       "      <th>Date</th>\n",
       "      <th>Compound</th>\n",
       "      <th>Positive</th>\n",
       "      <th>Negative</th>\n",
       "      <th>Neutral</th>\n",
       "    </tr>\n",
       "  </thead>\n",
       "  <tbody>\n",
       "    <tr>\n",
       "      <th>0</th>\n",
       "      <td>It’s Time To Get Interested In Ethereum Again</td>\n",
       "      <td>crypto winter it may be, but ethereum looks li...</td>\n",
       "      <td>2022-06-09</td>\n",
       "      <td>0.3612</td>\n",
       "      <td>0.081</td>\n",
       "      <td>0.044</td>\n",
       "      <td>0.875</td>\n",
       "    </tr>\n",
       "    <tr>\n",
       "      <th>1</th>\n",
       "      <td>GameStop Dunks Its Head Into the Crypto Kiddie...</td>\n",
       "      <td>gamestop has officially thrown itself headlong...</td>\n",
       "      <td>2022-05-23</td>\n",
       "      <td>-0.1027</td>\n",
       "      <td>0.000</td>\n",
       "      <td>0.040</td>\n",
       "      <td>0.960</td>\n",
       "    </tr>\n",
       "    <tr>\n",
       "      <th>2</th>\n",
       "      <td>Bitcoin, Ethereum Technical Analysis: BTC Slip...</td>\n",
       "      <td>btc fell to its lowest level since last july, ...</td>\n",
       "      <td>2022-05-09</td>\n",
       "      <td>0.1027</td>\n",
       "      <td>0.076</td>\n",
       "      <td>0.066</td>\n",
       "      <td>0.859</td>\n",
       "    </tr>\n",
       "    <tr>\n",
       "      <th>3</th>\n",
       "      <td>50 cryptocurrency and NFT terms you need to know</td>\n",
       "      <td>if you're inexperienced with nfts, some terms ...</td>\n",
       "      <td>2022-05-20</td>\n",
       "      <td>0.5574</td>\n",
       "      <td>0.135</td>\n",
       "      <td>0.039</td>\n",
       "      <td>0.827</td>\n",
       "    </tr>\n",
       "    <tr>\n",
       "      <th>4</th>\n",
       "      <td>Bitcoin, cryptocurrency shed $200 billion in o...</td>\n",
       "      <td>contagion spreading to stock markets as invest...</td>\n",
       "      <td>2022-05-12</td>\n",
       "      <td>-0.5667</td>\n",
       "      <td>0.070</td>\n",
       "      <td>0.173</td>\n",
       "      <td>0.757</td>\n",
       "    </tr>\n",
       "  </tbody>\n",
       "</table>\n",
       "</div>"
      ],
      "text/plain": [
       "                                               Title  \\\n",
       "0      It’s Time To Get Interested In Ethereum Again   \n",
       "1  GameStop Dunks Its Head Into the Crypto Kiddie...   \n",
       "2  Bitcoin, Ethereum Technical Analysis: BTC Slip...   \n",
       "3   50 cryptocurrency and NFT terms you need to know   \n",
       "4  Bitcoin, cryptocurrency shed $200 billion in o...   \n",
       "\n",
       "                                                Text        Date  Compound  \\\n",
       "0  crypto winter it may be, but ethereum looks li...  2022-06-09    0.3612   \n",
       "1  gamestop has officially thrown itself headlong...  2022-05-23   -0.1027   \n",
       "2  btc fell to its lowest level since last july, ...  2022-05-09    0.1027   \n",
       "3  if you're inexperienced with nfts, some terms ...  2022-05-20    0.5574   \n",
       "4  contagion spreading to stock markets as invest...  2022-05-12   -0.5667   \n",
       "\n",
       "   Positive  Negative  Neutral  \n",
       "0     0.081     0.044    0.875  \n",
       "1     0.000     0.040    0.960  \n",
       "2     0.076     0.066    0.859  \n",
       "3     0.135     0.039    0.827  \n",
       "4     0.070     0.173    0.757  "
      ]
     },
     "execution_count": 7,
     "metadata": {},
     "output_type": "execute_result"
    }
   ],
   "source": [
    "# Create the Ethereum sentiment scores DataFrame\n",
    "ethereum_sentiments  = []\n",
    "\n",
    "for article in ethereum_articles[\"articles\"]:\n",
    "    try:\n",
    "        title = article[\"title\"]\n",
    "        text = article[\"content\"].lower()\n",
    "        date = article[\"publishedAt\"][:10]\n",
    "        sentiment = analyzer.polarity_scores(text)\n",
    "        compound = sentiment[\"compound\"]\n",
    "        pos = sentiment[\"pos\"]\n",
    "        neu = sentiment[\"neu\"]\n",
    "        neg = sentiment[\"neg\"]\n",
    "        \n",
    "        ethereum_sentiments.append({\n",
    "            \"Title\": title,\n",
    "            \"Text\": text,\n",
    "            \"Date\": date,\n",
    "            \"Compound\": compound,\n",
    "            \"Positive\": pos,\n",
    "            \"Negative\": neg,\n",
    "            \"Neutral\": neu,\n",
    "            \n",
    "        })\n",
    "        \n",
    "    except AttributeError:\n",
    "        pass\n",
    "    \n",
    "    \n",
    "df_ethereum_sentiments = pd.DataFrame(ethereum_sentiments)\n",
    "df_ethereum_sentiments.head()"
   ]
  },
  {
   "cell_type": "code",
   "execution_count": 8,
   "metadata": {},
   "outputs": [
    {
     "data": {
      "text/html": [
       "<div>\n",
       "<style scoped>\n",
       "    .dataframe tbody tr th:only-of-type {\n",
       "        vertical-align: middle;\n",
       "    }\n",
       "\n",
       "    .dataframe tbody tr th {\n",
       "        vertical-align: top;\n",
       "    }\n",
       "\n",
       "    .dataframe thead th {\n",
       "        text-align: right;\n",
       "    }\n",
       "</style>\n",
       "<table border=\"1\" class=\"dataframe\">\n",
       "  <thead>\n",
       "    <tr style=\"text-align: right;\">\n",
       "      <th></th>\n",
       "      <th>Compound</th>\n",
       "      <th>Positive</th>\n",
       "      <th>Negative</th>\n",
       "      <th>Neutral</th>\n",
       "    </tr>\n",
       "  </thead>\n",
       "  <tbody>\n",
       "    <tr>\n",
       "      <th>count</th>\n",
       "      <td>100.000000</td>\n",
       "      <td>100.000000</td>\n",
       "      <td>100.000000</td>\n",
       "      <td>100.00000</td>\n",
       "    </tr>\n",
       "    <tr>\n",
       "      <th>mean</th>\n",
       "      <td>0.060163</td>\n",
       "      <td>0.071580</td>\n",
       "      <td>0.055230</td>\n",
       "      <td>0.87320</td>\n",
       "    </tr>\n",
       "    <tr>\n",
       "      <th>std</th>\n",
       "      <td>0.476574</td>\n",
       "      <td>0.071333</td>\n",
       "      <td>0.065856</td>\n",
       "      <td>0.07974</td>\n",
       "    </tr>\n",
       "    <tr>\n",
       "      <th>min</th>\n",
       "      <td>-0.851900</td>\n",
       "      <td>0.000000</td>\n",
       "      <td>0.000000</td>\n",
       "      <td>0.60400</td>\n",
       "    </tr>\n",
       "    <tr>\n",
       "      <th>25%</th>\n",
       "      <td>-0.323650</td>\n",
       "      <td>0.000000</td>\n",
       "      <td>0.000000</td>\n",
       "      <td>0.82775</td>\n",
       "    </tr>\n",
       "    <tr>\n",
       "      <th>50%</th>\n",
       "      <td>0.064400</td>\n",
       "      <td>0.062000</td>\n",
       "      <td>0.047000</td>\n",
       "      <td>0.87900</td>\n",
       "    </tr>\n",
       "    <tr>\n",
       "      <th>75%</th>\n",
       "      <td>0.458800</td>\n",
       "      <td>0.115000</td>\n",
       "      <td>0.085000</td>\n",
       "      <td>0.93250</td>\n",
       "    </tr>\n",
       "    <tr>\n",
       "      <th>max</th>\n",
       "      <td>0.900100</td>\n",
       "      <td>0.349000</td>\n",
       "      <td>0.246000</td>\n",
       "      <td>1.00000</td>\n",
       "    </tr>\n",
       "  </tbody>\n",
       "</table>\n",
       "</div>"
      ],
      "text/plain": [
       "         Compound    Positive    Negative    Neutral\n",
       "count  100.000000  100.000000  100.000000  100.00000\n",
       "mean     0.060163    0.071580    0.055230    0.87320\n",
       "std      0.476574    0.071333    0.065856    0.07974\n",
       "min     -0.851900    0.000000    0.000000    0.60400\n",
       "25%     -0.323650    0.000000    0.000000    0.82775\n",
       "50%      0.064400    0.062000    0.047000    0.87900\n",
       "75%      0.458800    0.115000    0.085000    0.93250\n",
       "max      0.900100    0.349000    0.246000    1.00000"
      ]
     },
     "execution_count": 8,
     "metadata": {},
     "output_type": "execute_result"
    }
   ],
   "source": [
    "# Describe the Bitcoin Sentiment\n",
    "df_bitcoin_sentiments.describe()"
   ]
  },
  {
   "cell_type": "code",
   "execution_count": 9,
   "metadata": {},
   "outputs": [
    {
     "data": {
      "text/html": [
       "<div>\n",
       "<style scoped>\n",
       "    .dataframe tbody tr th:only-of-type {\n",
       "        vertical-align: middle;\n",
       "    }\n",
       "\n",
       "    .dataframe tbody tr th {\n",
       "        vertical-align: top;\n",
       "    }\n",
       "\n",
       "    .dataframe thead th {\n",
       "        text-align: right;\n",
       "    }\n",
       "</style>\n",
       "<table border=\"1\" class=\"dataframe\">\n",
       "  <thead>\n",
       "    <tr style=\"text-align: right;\">\n",
       "      <th></th>\n",
       "      <th>Compound</th>\n",
       "      <th>Positive</th>\n",
       "      <th>Negative</th>\n",
       "      <th>Neutral</th>\n",
       "    </tr>\n",
       "  </thead>\n",
       "  <tbody>\n",
       "    <tr>\n",
       "      <th>count</th>\n",
       "      <td>100.000000</td>\n",
       "      <td>100.00000</td>\n",
       "      <td>100.000000</td>\n",
       "      <td>100.000000</td>\n",
       "    </tr>\n",
       "    <tr>\n",
       "      <th>mean</th>\n",
       "      <td>0.106411</td>\n",
       "      <td>0.07554</td>\n",
       "      <td>0.050370</td>\n",
       "      <td>0.874100</td>\n",
       "    </tr>\n",
       "    <tr>\n",
       "      <th>std</th>\n",
       "      <td>0.440135</td>\n",
       "      <td>0.07038</td>\n",
       "      <td>0.060817</td>\n",
       "      <td>0.086477</td>\n",
       "    </tr>\n",
       "    <tr>\n",
       "      <th>min</th>\n",
       "      <td>-0.851900</td>\n",
       "      <td>0.00000</td>\n",
       "      <td>0.000000</td>\n",
       "      <td>0.604000</td>\n",
       "    </tr>\n",
       "    <tr>\n",
       "      <th>25%</th>\n",
       "      <td>-0.273200</td>\n",
       "      <td>0.00000</td>\n",
       "      <td>0.000000</td>\n",
       "      <td>0.817000</td>\n",
       "    </tr>\n",
       "    <tr>\n",
       "      <th>50%</th>\n",
       "      <td>0.055900</td>\n",
       "      <td>0.07000</td>\n",
       "      <td>0.042000</td>\n",
       "      <td>0.879500</td>\n",
       "    </tr>\n",
       "    <tr>\n",
       "      <th>75%</th>\n",
       "      <td>0.481000</td>\n",
       "      <td>0.12050</td>\n",
       "      <td>0.079250</td>\n",
       "      <td>0.937000</td>\n",
       "    </tr>\n",
       "    <tr>\n",
       "      <th>max</th>\n",
       "      <td>0.900100</td>\n",
       "      <td>0.34900</td>\n",
       "      <td>0.260000</td>\n",
       "      <td>1.000000</td>\n",
       "    </tr>\n",
       "  </tbody>\n",
       "</table>\n",
       "</div>"
      ],
      "text/plain": [
       "         Compound   Positive    Negative     Neutral\n",
       "count  100.000000  100.00000  100.000000  100.000000\n",
       "mean     0.106411    0.07554    0.050370    0.874100\n",
       "std      0.440135    0.07038    0.060817    0.086477\n",
       "min     -0.851900    0.00000    0.000000    0.604000\n",
       "25%     -0.273200    0.00000    0.000000    0.817000\n",
       "50%      0.055900    0.07000    0.042000    0.879500\n",
       "75%      0.481000    0.12050    0.079250    0.937000\n",
       "max      0.900100    0.34900    0.260000    1.000000"
      ]
     },
     "execution_count": 9,
     "metadata": {},
     "output_type": "execute_result"
    }
   ],
   "source": [
    "# Describe the Ethereum Sentiment\n",
    "df_ethereum_sentiments.describe()"
   ]
  },
  {
   "cell_type": "markdown",
   "metadata": {},
   "source": [
    "### Questions:\n",
    "\n",
    "Q: Which coin had the highest mean positive score?\n",
    "\n",
    "A: Ethereum has the highest mean positive score of 0.07799\n",
    "\n",
    "Q: Which coin had the highest compound score?\n",
    "\n",
    "A: Ethereum has the highest compound score of 0.893400\n",
    "\n",
    "Q. Which coin had the highest positive score?\n",
    "\n",
    "A: Ethereum has the highest positive score of 0.33200"
   ]
  },
  {
   "cell_type": "markdown",
   "metadata": {},
   "source": [
    "---"
   ]
  },
  {
   "cell_type": "markdown",
   "metadata": {},
   "source": [
    "## 2. Natural Language Processing\n",
    "---\n",
    "###   Tokenizer\n",
    "\n",
    "In this section, you will use NLTK and Python to tokenize the text for each coin. Be sure to:\n",
    "1. Lowercase each word.\n",
    "2. Remove Punctuation.\n",
    "3. Remove Stopwords."
   ]
  },
  {
   "cell_type": "code",
   "execution_count": 10,
   "metadata": {},
   "outputs": [],
   "source": [
    "from nltk.tokenize import word_tokenize, sent_tokenize\n",
    "from nltk.corpus import stopwords\n",
    "from nltk.stem import WordNetLemmatizer, PorterStemmer\n",
    "from string import punctuation\n",
    "import re"
   ]
  },
  {
   "cell_type": "code",
   "execution_count": 11,
   "metadata": {},
   "outputs": [],
   "source": [
    "# Instantiate the lemmatizer\n",
    "lemmatizer = WordNetLemmatizer()\n",
    "\n",
    "# Create a list of stopwords\n",
    "sw = set(stopwords.words('english'))\n",
    "\n",
    "# Expand the default stopwords list if necessary\n",
    "sw_cuts = {'say', 'sent', 'go', 'wa', 'k', 'u', 'week', 'x', 'also', 'char','ha', 'th', 'b'}"
   ]
  },
  {
   "cell_type": "code",
   "execution_count": 12,
   "metadata": {},
   "outputs": [],
   "source": [
    "# Complete the tokenizer function\n",
    "def tokenizer(text):\n",
    "    \"\"\"Tokenizes text.\"\"\"\n",
    "    \n",
    "    # Remove the punctuation from text\n",
    "    regex = re.compile(\"[^a-zA-Z ]\")\n",
    "    re_clean = regex.sub('', text)\n",
    "   \n",
    "    # Create a tokenized list of the words\n",
    "    words = word_tokenize(re_clean)\n",
    "\n",
    "    # Lemmatize words into root words\n",
    "    lem = [lemmatizer.lemmatize(word) for word in words]\n",
    "   \n",
    "    # Convert the words to lowercase\n",
    "    word_lower = [word.lower() for word in lem]\n",
    "    \n",
    "    # Remove the stop words\n",
    "    output = [word.lower() for word in word_lower if word.lower() not in sw]\n",
    "    output1 = [word.lower() for word in output if word.lower() not in sw_cuts]\n",
    "\n",
    "    return output1"
   ]
  },
  {
   "cell_type": "code",
   "execution_count": 13,
   "metadata": {},
   "outputs": [
    {
     "data": {
      "text/html": [
       "<div>\n",
       "<style scoped>\n",
       "    .dataframe tbody tr th:only-of-type {\n",
       "        vertical-align: middle;\n",
       "    }\n",
       "\n",
       "    .dataframe tbody tr th {\n",
       "        vertical-align: top;\n",
       "    }\n",
       "\n",
       "    .dataframe thead th {\n",
       "        text-align: right;\n",
       "    }\n",
       "</style>\n",
       "<table border=\"1\" class=\"dataframe\">\n",
       "  <thead>\n",
       "    <tr style=\"text-align: right;\">\n",
       "      <th></th>\n",
       "      <th>Title</th>\n",
       "      <th>Text</th>\n",
       "      <th>Date</th>\n",
       "      <th>Compound</th>\n",
       "      <th>Positive</th>\n",
       "      <th>Negative</th>\n",
       "      <th>Neutral</th>\n",
       "      <th>Tokens</th>\n",
       "    </tr>\n",
       "  </thead>\n",
       "  <tbody>\n",
       "    <tr>\n",
       "      <th>0</th>\n",
       "      <td>Miami’s Bitcoin Conference Left a Trail of Har...</td>\n",
       "      <td>now, even though there are a number of women-f...</td>\n",
       "      <td>2022-05-10</td>\n",
       "      <td>0.0772</td>\n",
       "      <td>0.036</td>\n",
       "      <td>0.000</td>\n",
       "      <td>0.964</td>\n",
       "      <td>[even, though, number, womenfocused, crypto, s...</td>\n",
       "    </tr>\n",
       "    <tr>\n",
       "      <th>1</th>\n",
       "      <td>What is bitcoin? A beginner's guide to the wor...</td>\n",
       "      <td>scarcely a news cycle goes by without some men...</td>\n",
       "      <td>2022-05-20</td>\n",
       "      <td>0.0000</td>\n",
       "      <td>0.000</td>\n",
       "      <td>0.000</td>\n",
       "      <td>1.000</td>\n",
       "      <td>[scarcely, news, cycle, without, mention, bitc...</td>\n",
       "    </tr>\n",
       "    <tr>\n",
       "      <th>2</th>\n",
       "      <td>Bitcoin, Ethereum Technical Analysis: BTC Slip...</td>\n",
       "      <td>btc fell to its lowest level since last july, ...</td>\n",
       "      <td>2022-05-09</td>\n",
       "      <td>0.1027</td>\n",
       "      <td>0.076</td>\n",
       "      <td>0.066</td>\n",
       "      <td>0.859</td>\n",
       "      <td>[btc, fell, lowest, level, since, last, july, ...</td>\n",
       "    </tr>\n",
       "    <tr>\n",
       "      <th>3</th>\n",
       "      <td>Bitcoin, cryptocurrency shed $200 billion in o...</td>\n",
       "      <td>contagion spreading to stock markets as invest...</td>\n",
       "      <td>2022-05-12</td>\n",
       "      <td>-0.5667</td>\n",
       "      <td>0.070</td>\n",
       "      <td>0.173</td>\n",
       "      <td>0.757</td>\n",
       "      <td>[contagion, spreading, stock, market, investor...</td>\n",
       "    </tr>\n",
       "    <tr>\n",
       "      <th>4</th>\n",
       "      <td>Protecting Retirement Savings from Volatile Cr...</td>\n",
       "      <td>did you hear? you may be able to allocate some...</td>\n",
       "      <td>2022-05-09</td>\n",
       "      <td>0.1280</td>\n",
       "      <td>0.045</td>\n",
       "      <td>0.000</td>\n",
       "      <td>0.955</td>\n",
       "      <td>[hear, may, able, allocate, retirement, saving...</td>\n",
       "    </tr>\n",
       "  </tbody>\n",
       "</table>\n",
       "</div>"
      ],
      "text/plain": [
       "                                               Title  \\\n",
       "0  Miami’s Bitcoin Conference Left a Trail of Har...   \n",
       "1  What is bitcoin? A beginner's guide to the wor...   \n",
       "2  Bitcoin, Ethereum Technical Analysis: BTC Slip...   \n",
       "3  Bitcoin, cryptocurrency shed $200 billion in o...   \n",
       "4  Protecting Retirement Savings from Volatile Cr...   \n",
       "\n",
       "                                                Text        Date  Compound  \\\n",
       "0  now, even though there are a number of women-f...  2022-05-10    0.0772   \n",
       "1  scarcely a news cycle goes by without some men...  2022-05-20    0.0000   \n",
       "2  btc fell to its lowest level since last july, ...  2022-05-09    0.1027   \n",
       "3  contagion spreading to stock markets as invest...  2022-05-12   -0.5667   \n",
       "4  did you hear? you may be able to allocate some...  2022-05-09    0.1280   \n",
       "\n",
       "   Positive  Negative  Neutral  \\\n",
       "0     0.036     0.000    0.964   \n",
       "1     0.000     0.000    1.000   \n",
       "2     0.076     0.066    0.859   \n",
       "3     0.070     0.173    0.757   \n",
       "4     0.045     0.000    0.955   \n",
       "\n",
       "                                              Tokens  \n",
       "0  [even, though, number, womenfocused, crypto, s...  \n",
       "1  [scarcely, news, cycle, without, mention, bitc...  \n",
       "2  [btc, fell, lowest, level, since, last, july, ...  \n",
       "3  [contagion, spreading, stock, market, investor...  \n",
       "4  [hear, may, able, allocate, retirement, saving...  "
      ]
     },
     "execution_count": 13,
     "metadata": {},
     "output_type": "execute_result"
    }
   ],
   "source": [
    "# Create a new tokens column for Bitcoin\n",
    "df_bitcoin_tokens = df_bitcoin_sentiments.copy()\n",
    "tokenized = []\n",
    "\n",
    "for article in df_bitcoin_sentiments['Text']:\n",
    "    tokenized_articles = tokenizer(article)\n",
    "    tokenized.append({'tokens':tokenized_articles})\n",
    "\n",
    "    \n",
    "df_bitcoin_tokens['Tokens'] = pd.DataFrame(tokenized)\n",
    "df_bitcoin_tokens.head()"
   ]
  },
  {
   "cell_type": "code",
   "execution_count": 14,
   "metadata": {},
   "outputs": [],
   "source": [
    "# Create a new tokens column for Ethereum\n"
   ]
  },
  {
   "cell_type": "markdown",
   "metadata": {},
   "source": [
    "---"
   ]
  },
  {
   "cell_type": "markdown",
   "metadata": {},
   "source": [
    "### NGrams and Frequency Analysis\n",
    "\n",
    "In this section you will look at the ngrams and word frequency for each coin. \n",
    "\n",
    "1. Use NLTK to produce the n-grams for N = 2. \n",
    "2. List the top 10 words for each coin. "
   ]
  },
  {
   "cell_type": "code",
   "execution_count": 15,
   "metadata": {},
   "outputs": [],
   "source": [
    "from collections import Counter\n",
    "from nltk import ngrams"
   ]
  },
  {
   "cell_type": "code",
   "execution_count": 16,
   "metadata": {},
   "outputs": [],
   "source": [
    "# Generate the Bitcoin N-grams where N=2\n",
    "# YOUR CODE HERE!"
   ]
  },
  {
   "cell_type": "code",
   "execution_count": 17,
   "metadata": {},
   "outputs": [],
   "source": [
    "# Generate the Ethereum N-grams where N=2\n",
    "# YOUR CODE HERE!"
   ]
  },
  {
   "cell_type": "code",
   "execution_count": 18,
   "metadata": {},
   "outputs": [],
   "source": [
    "# Function token_count generates the top 10 words for a given coin\n",
    "def token_count(tokens, N=3):\n",
    "    \"\"\"Returns the top N tokens from the frequency count\"\"\"\n",
    "    return Counter(tokens).most_common(N)"
   ]
  },
  {
   "cell_type": "code",
   "execution_count": 19,
   "metadata": {},
   "outputs": [],
   "source": [
    "# Use token_count to get the top 10 words for Bitcoin\n",
    "# YOUR CODE HERE!"
   ]
  },
  {
   "cell_type": "code",
   "execution_count": 20,
   "metadata": {},
   "outputs": [],
   "source": [
    "# Use token_count to get the top 10 words for Ethereum\n",
    "# YOUR CODE HERE!"
   ]
  },
  {
   "cell_type": "markdown",
   "metadata": {},
   "source": [
    "---"
   ]
  },
  {
   "cell_type": "markdown",
   "metadata": {},
   "source": [
    "### Word Clouds\n",
    "\n",
    "In this section, you will generate word clouds for each coin to summarize the news for each coin"
   ]
  },
  {
   "cell_type": "code",
   "execution_count": 21,
   "metadata": {},
   "outputs": [],
   "source": [
    "from wordcloud import WordCloud\n",
    "import matplotlib.pyplot as plt\n",
    "plt.style.use('seaborn-whitegrid')\n",
    "import matplotlib as mpl\n",
    "mpl.rcParams['figure.figsize'] = [20.0, 10.0]"
   ]
  },
  {
   "cell_type": "code",
   "execution_count": 22,
   "metadata": {},
   "outputs": [],
   "source": [
    "# Generate the Bitcoin word cloud\n",
    "# YOUR CODE HERE!"
   ]
  },
  {
   "cell_type": "code",
   "execution_count": 23,
   "metadata": {},
   "outputs": [],
   "source": [
    "# Generate the Ethereum word cloud\n",
    "# YOUR CODE HERE!"
   ]
  },
  {
   "cell_type": "markdown",
   "metadata": {},
   "source": [
    "---\n",
    "## 3. Named Entity Recognition\n",
    "\n",
    "In this section, you will build a named entity recognition model for both Bitcoin and Ethereum, then visualize the tags using SpaCy."
   ]
  },
  {
   "cell_type": "code",
   "execution_count": 24,
   "metadata": {},
   "outputs": [],
   "source": [
    "import spacy\n",
    "from spacy import displacy"
   ]
  },
  {
   "cell_type": "code",
   "execution_count": 25,
   "metadata": {},
   "outputs": [],
   "source": [
    "# Download the language model for SpaCy\n",
    "# !python -m spacy download en_core_web_sm"
   ]
  },
  {
   "cell_type": "code",
   "execution_count": 26,
   "metadata": {},
   "outputs": [],
   "source": [
    "# Load the spaCy model\n",
    "nlp = spacy.load('en_core_web_sm')"
   ]
  },
  {
   "cell_type": "markdown",
   "metadata": {},
   "source": [
    "---\n",
    "### Bitcoin NER"
   ]
  },
  {
   "cell_type": "code",
   "execution_count": 27,
   "metadata": {},
   "outputs": [],
   "source": [
    "# Concatenate all of the Bitcoin text together\n",
    "# YOUR CODE HERE!"
   ]
  },
  {
   "cell_type": "code",
   "execution_count": 28,
   "metadata": {},
   "outputs": [],
   "source": [
    "# Run the NER processor on all of the text\n",
    "# YOUR CODE HERE!\n",
    "\n",
    "# Add a title to the document\n",
    "# YOUR CODE HERE!"
   ]
  },
  {
   "cell_type": "code",
   "execution_count": 29,
   "metadata": {},
   "outputs": [],
   "source": [
    "# Render the visualization\n",
    "# YOUR CODE HERE!"
   ]
  },
  {
   "cell_type": "code",
   "execution_count": 30,
   "metadata": {},
   "outputs": [],
   "source": [
    "# List all Entities\n",
    "# YOUR CODE HERE!"
   ]
  },
  {
   "cell_type": "markdown",
   "metadata": {},
   "source": [
    "---"
   ]
  },
  {
   "cell_type": "markdown",
   "metadata": {},
   "source": [
    "### Ethereum NER"
   ]
  },
  {
   "cell_type": "code",
   "execution_count": 31,
   "metadata": {},
   "outputs": [],
   "source": [
    "# Concatenate all of the Ethereum text together\n",
    "# YOUR CODE HERE!"
   ]
  },
  {
   "cell_type": "code",
   "execution_count": 32,
   "metadata": {},
   "outputs": [],
   "source": [
    "# Run the NER processor on all of the text\n",
    "# YOUR CODE HERE!\n",
    "\n",
    "# Add a title to the document\n",
    "# YOUR CODE HERE!"
   ]
  },
  {
   "cell_type": "code",
   "execution_count": 33,
   "metadata": {},
   "outputs": [],
   "source": [
    "# Render the visualization\n",
    "# YOUR CODE HERE!"
   ]
  },
  {
   "cell_type": "code",
   "execution_count": 34,
   "metadata": {},
   "outputs": [],
   "source": [
    "# List all Entities\n",
    "# YOUR CODE HERE!"
   ]
  },
  {
   "cell_type": "markdown",
   "metadata": {},
   "source": [
    "---"
   ]
  }
 ],
 "metadata": {
  "file_extension": ".py",
  "interpreter": {
   "hash": "ba58a576facce195c758d0e3adb1c5dcda8488d6fdabc51dff3366fa0f2fd51c"
  },
  "kernelspec": {
   "display_name": "Python 3.7.11",
   "language": "python",
   "name": "python3"
  },
  "language_info": {
   "codemirror_mode": {
    "name": "ipython",
    "version": 3
   },
   "file_extension": ".py",
   "mimetype": "text/x-python",
   "name": "python",
   "nbconvert_exporter": "python",
   "pygments_lexer": "ipython3",
   "version": "3.7.11"
  },
  "mimetype": "text/x-python",
  "name": "python",
  "npconvert_exporter": "python",
  "pygments_lexer": "ipython3",
  "version": 3
 },
 "nbformat": 4,
 "nbformat_minor": 4
}
